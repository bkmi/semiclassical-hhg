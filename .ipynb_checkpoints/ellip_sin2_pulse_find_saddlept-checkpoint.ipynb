{
 "cells": [
  {
   "cell_type": "code",
   "execution_count": null,
   "metadata": {
    "collapsed": false
   },
   "outputs": [],
   "source": [
    "# This program gathers information from modules within semiclassicalhhg and finds saddle points using methods in\n",
    "# Milosevic, et al. for two color elliptical field mixing with a sin2 envelope. The parameters of the envelope as well\n",
    "# as the fields are controlled from within this program.\n",
    "\n",
    "# When the entire program is run it will output 3 set of data in the form of numpy.save files.\n",
    "# params.npy is the set of parameters defined below. (i.e. pulse length, field frequencies)\n",
    "# intensity_coef.npy is the set of relative field strengths. (Ref Milosevic: same idea as i/6 + j/6 = 1 with i,j = int)\n",
    "# saddle_pts.npy is the set of saddle points for the parameters and for every relative field strength combination.\n",
    "\n",
    "# The user inputs data until the cell that shows where calculations begin!\n",
    "# The program requires a confirmation if you are about to overwrite old data.\n",
    "\n",
    "\n",
    "#we want to used pulsed supplimentary equations so...\n",
    "supp_eqns = 'pulsed_supp_eqns'\n",
    "\n",
    "import numpy as np\n",
    "import scipy.optimize\n",
    "from math import isnan\n",
    "import matplotlib.pyplot as plt\n",
    "import multiprocessing as mp\n",
    "import os"
   ]
  },
  {
   "cell_type": "code",
   "execution_count": null,
   "metadata": {
    "collapsed": false
   },
   "outputs": [],
   "source": [
    "#Prepare intensity coefficients\n",
    "\n",
    "\n",
    "#Method 1\n",
    "\n",
    "\n",
    "# i/6 and j/6 method like in milosevic:\n",
    "#   Input the number of relative intensity combinations to search through as count_intensity_steps.\n",
    "#   The program is setup to start with all intensity distributed to the \"int1*w\" frequency field.\n",
    "#   Then it searches through relative intensity combinations in a number of steps equal to count_intensity_steps + 1.\n",
    "#   You end up with count_intensity_steps + 1 total intensity options to search through because the program includes\n",
    "#   all intensity given to int1*w field, and all intensity given to int2*w field.\n",
    "#   \n",
    "#   For example: count_intensity_steps = 2\n",
    "#   The program generates these field combinations in the format (i/2 + j/2 = 1):\n",
    "#               2/2 + 0/2 = 1\n",
    "#               1/2 + 1/2 = 1\n",
    "#               0/2 + 2/2 = 1\n",
    "\n",
    "\"\"\"\n",
    "count_intensity_steps = 2\n",
    "intensity_coef = (np.transpose(np.array([np.arange(0,count_intensity_steps+1,1),\n",
    "                                         np.arange(count_intensity_steps,-1,-1)]))\n",
    "                  /count_intensity_steps)\n",
    "intensity_coef = intensity_coef[::-1]\n",
    "\"\"\"\n",
    "\n",
    "\n",
    "#Method 2\n",
    "\n",
    "#With this method, simply select a single relative field strength combination. The program normalizes the coefficients.\n",
    "\n",
    "#\"\"\"\n",
    "int1_w_rel_intensity = 1\n",
    "int2_w_rel_intensity = 1\n",
    "\n",
    "normalize_intensity = int1_w_rel_intensity + int2_w_rel_intensity\n",
    "intensity_coef = np.array([[int1_w_rel_intensity, int2_w_rel_intensity]])/normalize_intensity\n",
    "#\"\"\""
   ]
  },
  {
   "cell_type": "code",
   "execution_count": null,
   "metadata": {
    "collapsed": false
   },
   "outputs": [],
   "source": [
    "#prepare params \n",
    "\n",
    "# This section defines the parameters of the light that the system is exposed to. There are ten parameters that define\n",
    "# the system. These parameters are:\n",
    "#             omega - Frequency omega\n",
    "#             potential_well - Depth of the potential well\n",
    "#             electric_field1 - Electric field strength of the int1 field (array with len(intensity_coef))\n",
    "#             int1 - Integer multiplied by omega defining the int1 field frequency\n",
    "#             electric_field2 - Electric field strength of the int2 field (array with len(intensity_coef))\n",
    "#             int2 - Integer multiplied by omega defining the int2 field frequency\n",
    "#             epsilon1 - Ellipticity of the int1 field\n",
    "#             epsilon2 - Ellipticity of the int2 field\n",
    "#             mod_omega - Frequency of the sin2 envelope\n",
    "#             mod_phase - Phase of the envelope relative to the phase of the elliptical em waves.\n",
    "# params is a list of sets of 10 parameters. Each set of parameters is for a particular relative intensity combination.\n",
    "\n",
    "\n",
    "# User defined params:\n",
    "wavelength = 800 # nm\n",
    "potential_well = -0.5 # atomic units\n",
    "intensity1 = intensity_coef[:,0]*1e14 # W/cm^2\n",
    "frequency_integer1 = 1.0 # no units\n",
    "intensity2 = intensity_coef[:,1]*1e14 # W/cm^2\n",
    "frequency_integer2 = 2.0 # no units\n",
    "                    # epsilon1 = epsilon2 = 1 = corotating circular\n",
    "                    # epsilon1 = -epsilon2 = 1 = counterrotating circular\n",
    "epsilon1 = 1  # no units\n",
    "epsilon2 = -1 # no units\n",
    "\n",
    "#Determine the width of the pulse\n",
    "cycles_per_pulse = 4.0 #The number of times omega oscillates in a single sin2 oscillation.\n",
    "mod_phase = 0\n",
    "\n",
    "\n",
    "\n",
    "\n",
    "# Params that are not defined by the user:\n",
    "omega = 45.56/wavelength\n",
    "period = 2*np.pi/omega\n",
    "\n",
    "electric_field1 = np.sqrt(intensity1/3.509e16)\n",
    "omega1 = frequency_integer1 * omega\n",
    "period1 = 2*np.pi/omega1\n",
    "\n",
    "electric_field2 = np.sqrt(intensity2/3.509e16)\n",
    "omega2 = frequency_integer1 * omega\n",
    "period2 = 2*np.pi/omega2\n",
    "\n",
    "mod_omega = (1 / cycles_per_pulse) * omega\n",
    "\n",
    "params = np.zeros((len(intensity_coef), 10))\n",
    "for i in np.arange(len(intensity_coef)):\n",
    "    params[i] = (omega, potential_well, electric_field1[i], frequency_integer1,\n",
    "                 electric_field2[i], frequency_integer2, epsilon1, epsilon2, mod_omega, mod_phase)\n",
    "\n",
    "params"
   ]
  },
  {
   "cell_type": "code",
   "execution_count": null,
   "metadata": {
    "collapsed": true
   },
   "outputs": [],
   "source": [
    "#Generate and organize the time values used in guessing. Recall: The program kills saddle pts with Re[tau] > Period.\n",
    "#The calculation time scales exponentially with the number of guesses on the grid so use caution with large numbers.\n",
    "\n",
    "#Enter below the grid size you would like to use:\n",
    "recombination_grid_size = 50 #Number of guesses for tf\n",
    "real_tau_grid_size =      10 #Number of guesses for Re[tau]\n",
    "imag_tau_grid_size =      10 #Number of guesses for Im[tau]\n",
    "\n",
    "\n",
    "#--\n",
    "\n",
    "\n",
    "#recombTimes = bounds for program to consider HHG, this program considers a single pulse for recomb (tf)\n",
    "recombTimes = [0.0, cycles_per_pulse]  #given in field cycles\n",
    "recomb_grid = np.array(np.linspace( (recombTimes[0]) * period, (recombTimes[1])\n",
    "                                   * period, recombination_grid_size) )\n",
    "\n",
    "#The tau guesses are limited to 1 period or less because anything longer gets removed later anyway.\n",
    "#Generate real tau grid\n",
    "real_tau_grid = np.array(np.linspace( 0.0, period, real_tau_grid_size), dtype = np.complex128 )\n",
    "#Generate imag tau grid\n",
    "imag_tau_grid = np.array(np.linspace( 0.0, period, imag_tau_grid_size), dtype = np.complex128 )\n",
    "\n",
    "#times for plotting/later analysis\n",
    "dt = 0.01\n",
    "all_real_times = np.arange( float(np.real(min(recomb_grid) - max(real_tau_grid))),\n",
    "                           float(np.real(max(recomb_grid))), dt)"
   ]
  },
  {
   "cell_type": "code",
   "execution_count": null,
   "metadata": {
    "collapsed": true
   },
   "outputs": [],
   "source": [
    "# Name the output data. Files will be placed in a directory: data_ellip_sin2_pulse_(filename)\n",
    "\n",
    "filename = \"trial\""
   ]
  },
  {
   "cell_type": "code",
   "execution_count": null,
   "metadata": {
    "collapsed": false
   },
   "outputs": [],
   "source": [
    "# User data is all entered ABOVE\n",
    "\n",
    "\n",
    "# --\n",
    "\n",
    "\n",
    "# Processing is done BELOW"
   ]
  },
  {
   "cell_type": "code",
   "execution_count": null,
   "metadata": {
    "collapsed": false
   },
   "outputs": [],
   "source": [
    "# This just makes sure that you don't accidently overwrite something you weren't expecting to.\n",
    "# The exception is raised if the directory ./data_ellip_sin2_pulse_(filename) already exists, no matter what is inside.\n",
    "\n",
    "import sys\n",
    "\n",
    "def query_yes_no(question, default=\"no\"):\n",
    "    \"\"\"Ask a yes/no question via raw_input() and return their answer.\n",
    "\n",
    "    \"question\" is a string that is presented to the user.\n",
    "    \"default\" is the presumed answer if the user just hits <Enter>.\n",
    "        It must be \"yes\" (the default), \"no\" or None (meaning\n",
    "        an answer is required of the user).\n",
    "\n",
    "    The \"answer\" return value is True for \"yes\" or False for \"no\".\n",
    "    \"\"\"\n",
    "    valid = {\"yes\": True, \"y\": True, \"ye\": True,\n",
    "             \"no\": False, \"n\": False}\n",
    "    if default is None:\n",
    "        prompt = \" [y/n] \"\n",
    "    elif default == \"yes\":\n",
    "        prompt = \" [Y/n] \"\n",
    "    elif default == \"no\":\n",
    "        prompt = \" [y/N] \"\n",
    "    else:\n",
    "        raise ValueError(\"invalid default answer: '%s'\" % default)\n",
    "\n",
    "    while True:\n",
    "        sys.stdout.write(question + prompt)\n",
    "        choice = input().lower()\n",
    "        if default is not None and choice == '':\n",
    "            return valid[default]\n",
    "        elif choice in valid:\n",
    "            return valid[choice]\n",
    "        else:\n",
    "            sys.stdout.write(\"Please respond with 'yes' or 'no' \"\n",
    "                             \"(or 'y' or 'n').\\n\")\n",
    "\n",
    "\n",
    "\n",
    "try:\n",
    "    os.mkdir(\"./data_ellip_sin2_pulse_\"+str(filename))\n",
    "except OSError:\n",
    "    print(\"The directory \" + \"./data_ellip_sin2_pulse_\" + str(filename) + \" already exists. \\n\")\n",
    "    if query_yes_no(\"Would you like to continue and overwrite the data in the directory?\"):\n",
    "        print(\"\\nOkay, I will overwrite the data in \" + \"./data_ellip_sin2_pulse_\" + str(filename))\n",
    "        pass\n",
    "    else:\n",
    "        print(\"\\nYou have chosen to stop the program. \\nRename the variable 'filename' such that \"\n",
    "              + \"./data_ellip_sin2_pulse_(filename) does not already exist. \\nThe filename is currently: \"\n",
    "              + str(filename) + \"\\nThe directory that already exists is called: \" + \"./data_ellip_sin2_pulse_\"\n",
    "              + str(filename))\n",
    "        raise"
   ]
  },
  {
   "cell_type": "code",
   "execution_count": null,
   "metadata": {
    "collapsed": false
   },
   "outputs": [],
   "source": [
    "from semiclassicalhhg.pulsed_supp_eqns import nineteen_cplx_tf, nineteen_cplx_tf_p, position, velocity\n",
    "\n",
    "from semiclassicalhhg.saddle_pts import *"
   ]
  },
  {
   "cell_type": "code",
   "execution_count": null,
   "metadata": {
    "collapsed": true
   },
   "outputs": [],
   "source": [
    "def efieldvec( t, args ):\n",
    "    '''\n",
    "    Efield as a function of time. Elliptical polarization given in Milosevic.\n",
    "    \n",
    "    Input time (t) and args.\n",
    "    args = frequency (w), ground state energy (gse), electric field for int1*w (EF1), integer1 multiplied by w (int1),\n",
    "        electric field for int2*w (EF2), integer1 multiplied by w (int2), ellipticity1 (epsilon1),\n",
    "        ellipticity2 (epsilon2), frequency of pulse modulation (modw), and phase of pulse modulation (modphase).\n",
    "    \n",
    "    Returns electric field vector at a given time\n",
    "    '''\n",
    "    \n",
    "    from numpy import sqrt\n",
    "    w, gse, EF1, int1, EF2, int2, epsilon1, epsilon2, modw, modphase = args\n",
    "    \n",
    "    xdir = (((1.0j/2)*EF1*sin(modphase + modw*t)**2)/(e**(1.0j*int1*t*w)*sqrt(1 + epsilon1**2)) \n",
    "            - ((1.0j/2)*e**(1.0j*int1*t*w)*EF1*sin(modphase + modw*t)**2)/sqrt(1 + epsilon1**2) \n",
    "            + ((1.0j/2)*EF2*sin(modphase + modw*t)**2)/(e**(1.0j*int2*t*w)*sqrt(1 + epsilon2**2)) \n",
    "            - ((1.0j/2)*e**(1.0j*int2*t*w)*EF2*sin(modphase + modw*t)**2)/sqrt(1 + epsilon2**2))\n",
    "    ydir = (-(EF1*epsilon1*sin(modphase + modw*t)**2)/(2*e**(1.0j*int1*t*w)*sqrt(1 + epsilon1**2))\n",
    "            - (e**(1.0j*int1*t*w)*EF1*epsilon1*sin(modphase + modw*t)**2)/(2*sqrt(1 + epsilon1**2))\n",
    "            - (EF2*epsilon2*sin(modphase + modw*t)**2)/(2*e**(1.0j*int2*t*w)*sqrt(1 + epsilon2**2))\n",
    "            - (e**(1.0j*int2*t*w)*EF2*epsilon2*sin(modphase + modw*t)**2)/(2*sqrt(1 + epsilon2**2)))\n",
    "    \n",
    "    return [xdir, ydir]"
   ]
  },
  {
   "cell_type": "code",
   "execution_count": null,
   "metadata": {
    "collapsed": false
   },
   "outputs": [],
   "source": [
    "'''\n",
    "This is the final stage.\n",
    "\n",
    "Input tau grid guesses real, imag, tf grid, args, supp_eqns.\n",
    "(supp_eqns is a string directing to the file containing the kind of supplementary equations you are using)\n",
    "\n",
    "Args comes as a list of paramters lists. Each one will be considered for the output.\n",
    "\n",
    "Output sorted \"good tau\" list of lists.\n",
    "'''\n",
    "\n",
    "def last_step(dressed_input):\n",
    "    \n",
    "    real_tau_grid = dressed_input[0]\n",
    "    imag_tau_grid = dressed_input[1]\n",
    "    recomb_grid = dressed_input[2]\n",
    "    params = dressed_input[3]\n",
    "    supp_eqns = dressed_input[4]\n",
    "    \n",
    "    data = []\n",
    "    data.append(good_taus( nineteen_scan_for_tau(real_tau_grid, imag_tau_grid, recomb_grid, params, supp_eqns)[0],\n",
    "                          period)[0]\n",
    "               )\n",
    "    \n",
    "    return data\n",
    "\n",
    "\n",
    "# --\n",
    "\n",
    "\n",
    "dressed_input = []\n",
    "for i in np.arange(len(params)):\n",
    "    current = (real_tau_grid, imag_tau_grid, recomb_grid, params[i], supp_eqns)\n",
    "    dressed_input.append(current)\n",
    "\n",
    "# --\n",
    "\n",
    "\n",
    "quick_pos_uniq_round_vals = []\n",
    "\n",
    "if __name__ == '__main__':\n",
    "    with mp.Pool() as p:\n",
    "        quick_pos_uniq_round_vals.append(p.map(last_step, dressed_input))"
   ]
  },
  {
   "cell_type": "code",
   "execution_count": null,
   "metadata": {
    "collapsed": true
   },
   "outputs": [],
   "source": [
    "what_to_say = \"The parameters for this dataset are as follows: \\n\"\n",
    "what_to_say = what_to_say + \"\\n\"\n",
    "\n",
    "what_to_say = what_to_say + \"Omega = \" + str(omega) + \"\\n\"\n",
    "what_to_say = what_to_say + \"Potential Well = \" + str(potential_well) + \"\\n\"\n",
    "what_to_say = what_to_say + \"1st Electric Field Amplitudes = \" + str(electric_field1) + \"\\n\"\n",
    "what_to_say = what_to_say + \"1st Frequency Integer = \" + str(frequency_integer1) + \"\\n\"\n",
    "what_to_say = what_to_say + \"1st epsilon = \" + str(epsilon1) + \"\\n\"\n",
    "what_to_say = what_to_say + \"2nd Electric Field Amplitudes = \" + str(electric_field2) + \"\\n\"\n",
    "what_to_say = what_to_say + \"2nd Frequency Integer = \" + str(frequency_integer2) + \"\\n\"\n",
    "what_to_say = what_to_say + \"2nd epsilon = \" + str(epsilon2) + \"\\n\"\n",
    "what_to_say = what_to_say + \"Sin2 Modulation Omega = \" + str(mod_omega) + \"\\n\"\n",
    "what_to_say = what_to_say + \"Sin2 Modulation Phase = \" + str(mod_phase) + \"\\n\"\n",
    "what_to_say = what_to_say + \"\\n\"\n",
    "\n",
    "what_to_say = what_to_say + \"The number of field combinations tested was: \" + str(len(intensity_coef)) + \"\\n\"\n",
    "what_to_say = what_to_say + \"With the following relative intensities:\\n\" +str(intensity_coef) + \"\\n\"\n",
    "\n",
    "\n",
    "with open('./'+\"data_ellip_sin2_pulse_\"+str(filename)+'/information', 'w') as info:\n",
    "    info.write(what_to_say)"
   ]
  },
  {
   "cell_type": "code",
   "execution_count": null,
   "metadata": {
    "collapsed": false
   },
   "outputs": [],
   "source": [
    "np.save('./'+\"data_ellip_sin2_pulse_\"+str(filename)+'/params', np.array(params))"
   ]
  },
  {
   "cell_type": "code",
   "execution_count": null,
   "metadata": {
    "collapsed": true
   },
   "outputs": [],
   "source": [
    "np.save('./'+\"data_ellip_sin2_pulse_\"+str(filename)+'/intensity_coef', np.array(intensity_coef))"
   ]
  },
  {
   "cell_type": "code",
   "execution_count": null,
   "metadata": {
    "collapsed": false
   },
   "outputs": [],
   "source": [
    "np.save('./'+\"data_ellip_sin2_pulse_\"+str(filename)+'/saddle_pts', np.array(quick_pos_uniq_round_vals))"
   ]
  },
  {
   "cell_type": "code",
   "execution_count": null,
   "metadata": {
    "collapsed": true
   },
   "outputs": [],
   "source": []
  }
 ],
 "metadata": {
  "kernelspec": {
   "display_name": "Python 3",
   "language": "python",
   "name": "python3"
  },
  "language_info": {
   "codemirror_mode": {
    "name": "ipython",
    "version": 3
   },
   "file_extension": ".py",
   "mimetype": "text/x-python",
   "name": "python",
   "nbconvert_exporter": "python",
   "pygments_lexer": "ipython3",
   "version": "3.4.3"
  }
 },
 "nbformat": 4,
 "nbformat_minor": 0
}
